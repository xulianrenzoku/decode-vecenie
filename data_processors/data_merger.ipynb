{
 "cells": [
  {
   "cell_type": "code",
   "execution_count": 1,
   "id": "c60c9c21",
   "metadata": {
    "ExecuteTime": {
     "end_time": "2023-08-15T15:26:06.020292Z",
     "start_time": "2023-08-15T15:26:05.353117Z"
    }
   },
   "outputs": [],
   "source": [
    "import os\n",
    "import numpy as np\n",
    "import pandas as pd"
   ]
  },
  {
   "cell_type": "markdown",
   "id": "eea42d39",
   "metadata": {},
   "source": [
    "## Read Data"
   ]
  },
  {
   "cell_type": "code",
   "execution_count": 2,
   "id": "52970619",
   "metadata": {
    "ExecuteTime": {
     "end_time": "2023-08-15T15:26:06.103517Z",
     "start_time": "2023-08-15T15:26:06.050157Z"
    }
   },
   "outputs": [],
   "source": [
    "dfs_dict = {}\n",
    "for file in os.listdir('../processed_csv'):\n",
    "    if file != 'draft_guide_data.csv':\n",
    "        year = file.replace('.csv', '')\n",
    "        df = pd.read_csv(f'../processed_csv/{file}')\n",
    "        df['year'] = int(year)\n",
    "        dfs_dict[year] = df"
   ]
  },
  {
   "cell_type": "markdown",
   "id": "e0b8dc43",
   "metadata": {},
   "source": [
    "## Determine Tiers"
   ]
  },
  {
   "cell_type": "code",
   "execution_count": 3,
   "id": "196d8778",
   "metadata": {
    "ExecuteTime": {
     "end_time": "2023-08-15T15:26:06.124012Z",
     "start_time": "2023-08-15T15:26:06.107949Z"
    }
   },
   "outputs": [
    {
     "data": {
      "text/plain": [
       "TIER  TIER_DESCRIP                             \n",
       "2     REALIZABLE ALL-STAR UPSIDE                    3\n",
       "3     HIGH LEVERAGE STARTERS                        8\n",
       "4     UPSIDE SWINGS, POTENTIAL STARTERS             6\n",
       "5     ROTATION PLAYERS                             32\n",
       "6     SECOND ROUND FLIERS AND PRIORITY TWO WAYS    11\n",
       "Name: PLAYER, dtype: int64"
      ]
     },
     "execution_count": 3,
     "metadata": {},
     "output_type": "execute_result"
    }
   ],
   "source": [
    "dfs_dict['2020'].groupby(['TIER', 'TIER_DESCRIP'])['PLAYER'].count()"
   ]
  },
  {
   "cell_type": "code",
   "execution_count": 4,
   "id": "74658ec4",
   "metadata": {
    "ExecuteTime": {
     "end_time": "2023-08-15T15:26:06.141659Z",
     "start_time": "2023-08-15T15:26:06.130289Z"
    }
   },
   "outputs": [
    {
     "data": {
      "text/plain": [
       "TIER  TIER_DESCRIP          \n",
       "1     Superstar Upside           1\n",
       "2     All-Star Upside            3\n",
       "3     High Leverage Starters     2\n",
       "4     Potential Starters        16\n",
       "5     Rotation Players          21\n",
       "6     2nd Rd. Fliers            18\n",
       "7     Undrafted Fliers          17\n",
       "Name: PLAYER, dtype: int64"
      ]
     },
     "execution_count": 4,
     "metadata": {},
     "output_type": "execute_result"
    }
   ],
   "source": [
    "dfs_dict['2021'].groupby(['TIER', 'TIER_DESCRIP'])['PLAYER'].count()"
   ]
  },
  {
   "cell_type": "code",
   "execution_count": 5,
   "id": "55307261",
   "metadata": {
    "ExecuteTime": {
     "end_time": "2023-08-15T15:26:06.157104Z",
     "start_time": "2023-08-15T15:26:06.147359Z"
    }
   },
   "outputs": [
    {
     "data": {
      "text/plain": [
       "TIER  TIER_DESCRIP                              \n",
       "2     All-Star Upside                                4\n",
       "3     High-Leverage Starters                         5\n",
       "4     Starters and Difference-Makers                12\n",
       "5     Late First-Round, Guaranteed Contract Guys    28\n",
       "6     Two-Way Contracts                             26\n",
       "Name: PLAYER, dtype: int64"
      ]
     },
     "execution_count": 5,
     "metadata": {},
     "output_type": "execute_result"
    }
   ],
   "source": [
    "dfs_dict['2022'].groupby(['TIER', 'TIER_DESCRIP'])['PLAYER'].count()"
   ]
  },
  {
   "cell_type": "code",
   "execution_count": 6,
   "id": "0c63c2b6",
   "metadata": {
    "ExecuteTime": {
     "end_time": "2023-08-15T15:26:06.209076Z",
     "start_time": "2023-08-15T15:26:06.194260Z"
    }
   },
   "outputs": [
    {
     "data": {
      "text/plain": [
       "TIER  TIER_DESCRIP                      \n",
       "1     Projectable All-NBA Upside             1\n",
       "2     Projectable All-Star Upside            3\n",
       "3     High-Leverage Starters                 4\n",
       "4     Starter/All-Star Tool Swings           7\n",
       "5     Rotation Players and Upside Swings    20\n",
       "6     Second-Round Guarantee Swings          6\n",
       "7     Priority Two-Ways                     11\n",
       "8     Two-Ways, Stashes, Exhibit 10s        22\n",
       "Vic   Victor Wembanyama                      1\n",
       "Name: PLAYER, dtype: int64"
      ]
     },
     "execution_count": 6,
     "metadata": {},
     "output_type": "execute_result"
    }
   ],
   "source": [
    "dfs_dict['2023'].groupby(['TIER', 'TIER_DESCRIP'])['PLAYER'].count()"
   ]
  },
  {
   "cell_type": "markdown",
   "id": "94afdab4",
   "metadata": {},
   "source": [
    "- Him\n",
    "- All-Star Upside\n",
    "- High-Leverage Starters\n",
    "- Upside Swings\n",
    "- Rotation Players\n",
    "- Second Round"
   ]
  },
  {
   "cell_type": "code",
   "execution_count": 7,
   "id": "6be10e84",
   "metadata": {
    "ExecuteTime": {
     "end_time": "2023-08-15T15:26:06.366731Z",
     "start_time": "2023-08-15T15:26:06.361373Z"
    }
   },
   "outputs": [],
   "source": [
    "global_tier_dict = {5: 'All-Star Upside',\n",
    "                    4: 'High-Leverage Starters',\n",
    "                    3: 'Upside Swings',\n",
    "                    2: 'Rotation Players',\n",
    "                    1: 'Second Round and Two-Ways'}"
   ]
  },
  {
   "cell_type": "code",
   "execution_count": 8,
   "id": "0998b9de",
   "metadata": {
    "ExecuteTime": {
     "end_time": "2023-08-15T15:26:06.451076Z",
     "start_time": "2023-08-15T15:26:06.444679Z"
    }
   },
   "outputs": [],
   "source": [
    "def transform_tier(df, tier_map,\n",
    "                   global_tier_dict=global_tier_dict):\n",
    "    df['TIER'] = df['TIER'].map(tier_map)\n",
    "    df['TIER_DESCRIP'] = df['TIER'].map(global_tier_dict)\n",
    "    return df"
   ]
  },
  {
   "cell_type": "markdown",
   "id": "bdaa890e",
   "metadata": {},
   "source": [
    "#### 2020"
   ]
  },
  {
   "cell_type": "code",
   "execution_count": 9,
   "id": "246649ec",
   "metadata": {
    "ExecuteTime": {
     "end_time": "2023-08-15T15:26:06.625714Z",
     "start_time": "2023-08-15T15:26:06.611415Z"
    }
   },
   "outputs": [
    {
     "data": {
      "text/plain": [
       "TIER  TIER_DESCRIP             \n",
       "1     Second Round and Two-Ways    11\n",
       "2     Rotation Players             32\n",
       "3     Upside Swings                 6\n",
       "4     High-Leverage Starters        8\n",
       "5     All-Star Upside               3\n",
       "Name: PLAYER, dtype: int64"
      ]
     },
     "execution_count": 9,
     "metadata": {},
     "output_type": "execute_result"
    }
   ],
   "source": [
    "dfs_dict['2020'] = transform_tier(dfs_dict['2020'], {2: 5, 3: 4, 4: 3, 5: 2, 6: 1})\n",
    "dfs_dict['2020'].groupby(['TIER', 'TIER_DESCRIP'])['PLAYER'].count()"
   ]
  },
  {
   "cell_type": "markdown",
   "id": "84d12320",
   "metadata": {},
   "source": [
    "#### 2021"
   ]
  },
  {
   "cell_type": "code",
   "execution_count": 10,
   "id": "f02699f4",
   "metadata": {
    "ExecuteTime": {
     "end_time": "2023-08-15T15:26:06.792194Z",
     "start_time": "2023-08-15T15:26:06.778364Z"
    }
   },
   "outputs": [
    {
     "data": {
      "text/plain": [
       "TIER  TIER_DESCRIP             \n",
       "1     Second Round and Two-Ways    35\n",
       "2     Rotation Players             21\n",
       "3     Upside Swings                16\n",
       "4     High-Leverage Starters        2\n",
       "5     All-Star Upside               4\n",
       "Name: PLAYER, dtype: int64"
      ]
     },
     "execution_count": 10,
     "metadata": {},
     "output_type": "execute_result"
    }
   ],
   "source": [
    "dfs_dict['2021'] = transform_tier(dfs_dict['2021'], {1: 5, 2: 5, 3: 4, 4: 3, 5: 2, 6: 1, 7: 1})\n",
    "dfs_dict['2021'].groupby(['TIER', 'TIER_DESCRIP'])['PLAYER'].count()"
   ]
  },
  {
   "cell_type": "markdown",
   "id": "c495fd35",
   "metadata": {},
   "source": [
    "#### 2022"
   ]
  },
  {
   "cell_type": "code",
   "execution_count": 11,
   "id": "28c1840e",
   "metadata": {
    "ExecuteTime": {
     "end_time": "2023-08-15T15:26:06.961721Z",
     "start_time": "2023-08-15T15:26:06.944318Z"
    }
   },
   "outputs": [
    {
     "data": {
      "text/plain": [
       "TIER  TIER_DESCRIP             \n",
       "1     Second Round and Two-Ways    26\n",
       "2     Rotation Players             28\n",
       "3     Upside Swings                12\n",
       "4     High-Leverage Starters        5\n",
       "5     All-Star Upside               4\n",
       "Name: PLAYER, dtype: int64"
      ]
     },
     "execution_count": 11,
     "metadata": {},
     "output_type": "execute_result"
    }
   ],
   "source": [
    "dfs_dict['2022'] = transform_tier(dfs_dict['2022'], {2: 5, 3: 4, 4: 3, 5: 2, 6: 1})\n",
    "dfs_dict['2022'].groupby(['TIER', 'TIER_DESCRIP'])['PLAYER'].count()"
   ]
  },
  {
   "cell_type": "markdown",
   "id": "a7be3d0c",
   "metadata": {},
   "source": [
    "#### 2023"
   ]
  },
  {
   "cell_type": "code",
   "execution_count": 12,
   "id": "05ba073d",
   "metadata": {
    "ExecuteTime": {
     "end_time": "2023-08-15T15:26:07.136826Z",
     "start_time": "2023-08-15T15:26:07.111884Z"
    }
   },
   "outputs": [
    {
     "data": {
      "text/plain": [
       "TIER  TIER_DESCRIP             \n",
       "1     Second Round and Two-Ways    39\n",
       "2     Rotation Players             20\n",
       "3     Upside Swings                 7\n",
       "4     High-Leverage Starters        4\n",
       "5     All-Star Upside               5\n",
       "Name: PLAYER, dtype: int64"
      ]
     },
     "execution_count": 12,
     "metadata": {},
     "output_type": "execute_result"
    }
   ],
   "source": [
    "dfs_dict['2023'] = transform_tier(dfs_dict['2023'], {'Vic': 5, '1': 5, '2': 5, '3': 4, \n",
    "                                                     '4': 3, '5': 2, '6': 1, '7': 1, '8': 1})\n",
    "dfs_dict['2023'].groupby(['TIER', 'TIER_DESCRIP'])['PLAYER'].count()"
   ]
  },
  {
   "cell_type": "markdown",
   "id": "b64a3f65",
   "metadata": {},
   "source": [
    "## Combine Data"
   ]
  },
  {
   "cell_type": "code",
   "execution_count": 13,
   "id": "779879ee",
   "metadata": {
    "ExecuteTime": {
     "end_time": "2023-08-15T15:26:07.539028Z",
     "start_time": "2023-08-15T15:26:07.533469Z"
    }
   },
   "outputs": [
    {
     "name": "stdout",
     "output_type": "stream",
     "text": [
      "2020 Index(['RANK', 'PLAYER', 'TEAM', 'POSITION', 'AGE', 'HEIGHT', 'WEIGHT',\n",
      "       'WINGSPAN', 'TIER', 'STRENGTHS', 'WEAKNESSES', 'SUMMARY',\n",
      "       'TIER_DESCRIP', 'year'],\n",
      "      dtype='object')\n",
      "\n",
      "2021 Index(['RANK', 'PLAYER', 'SCHOOL/TEAM', 'POS', 'AGE', 'HT', 'WING', 'TIER',\n",
      "       'STRENGTHS', 'WEAKNESSES', 'SUMMARY', 'TIER_DESCRIP', 'year'],\n",
      "      dtype='object')\n",
      "\n",
      "2023 Index(['RANK', 'PLAYER', 'SCHOOL/TEAM', 'POS', 'AGE', 'HT', 'WING', 'TIER',\n",
      "       'BACKGROUND', 'STRENGTHS', 'WEAKNESSES', 'SUMMARY', 'TIER_DESCRIP',\n",
      "       'year'],\n",
      "      dtype='object')\n",
      "\n",
      "2022 Index(['RANK', 'PLAYER', 'SCHOOL/TEAM', 'POS', 'AGE', 'HT', 'WING', 'TIER',\n",
      "       'STRENGTHS', 'WEAKNESSES', 'SUMMARY', 'TIER_DESCRIP', 'year'],\n",
      "      dtype='object')\n",
      "\n"
     ]
    }
   ],
   "source": [
    "for year in dfs_dict:\n",
    "    print(year, dfs_dict[year].columns)\n",
    "    print()"
   ]
  },
  {
   "cell_type": "code",
   "execution_count": 14,
   "id": "cbe3faf3",
   "metadata": {
    "ExecuteTime": {
     "end_time": "2023-08-15T15:26:07.738625Z",
     "start_time": "2023-08-15T15:26:07.733301Z"
    }
   },
   "outputs": [],
   "source": [
    "dfs_dict['2020'] = dfs_dict['2020'].rename(columns={'TEAM': 'SCHOOL/TEAM',\n",
    "                                                    'POSITION': 'POS',\n",
    "                                                    'HEIGHT': 'HT',\n",
    "                                                    'WINGSPAN': 'WING'})"
   ]
  },
  {
   "cell_type": "code",
   "execution_count": 15,
   "id": "4c686c3d",
   "metadata": {
    "ExecuteTime": {
     "end_time": "2023-08-15T15:26:07.950206Z",
     "start_time": "2023-08-15T15:26:07.932962Z"
    }
   },
   "outputs": [
    {
     "data": {
      "text/plain": [
       "(288, 13)"
      ]
     },
     "execution_count": 15,
     "metadata": {},
     "output_type": "execute_result"
    }
   ],
   "source": [
    "cols = ['RANK', 'PLAYER', 'SCHOOL/TEAM', 'POS', 'AGE', 'HT', 'WING', 'TIER',\n",
    "       'STRENGTHS', 'WEAKNESSES', 'SUMMARY', 'TIER_DESCRIP', 'year']\n",
    "df = pd.concat([dfs_dict[year][cols]\n",
    "                for year in dfs_dict])\\\n",
    "       .reset_index().drop('index', axis=1)\n",
    "df.shape"
   ]
  },
  {
   "cell_type": "code",
   "execution_count": 16,
   "id": "e45ea3f6",
   "metadata": {
    "ExecuteTime": {
     "end_time": "2023-08-15T15:26:08.131977Z",
     "start_time": "2023-08-15T15:26:08.122465Z"
    }
   },
   "outputs": [
    {
     "data": {
      "text/plain": [
       "TIER  TIER_DESCRIP             \n",
       "1     Second Round and Two-Ways    111\n",
       "2     Rotation Players             101\n",
       "3     Upside Swings                 41\n",
       "4     High-Leverage Starters        19\n",
       "5     All-Star Upside               16\n",
       "Name: PLAYER, dtype: int64"
      ]
     },
     "execution_count": 16,
     "metadata": {},
     "output_type": "execute_result"
    }
   ],
   "source": [
    "df.groupby(['TIER', 'TIER_DESCRIP'])['PLAYER'].count()"
   ]
  },
  {
   "cell_type": "markdown",
   "id": "85c4bd42",
   "metadata": {},
   "source": [
    "### Check Tiers"
   ]
  },
  {
   "cell_type": "code",
   "execution_count": 17,
   "id": "d54482d7",
   "metadata": {
    "ExecuteTime": {
     "end_time": "2023-08-15T15:26:08.533770Z",
     "start_time": "2023-08-15T15:26:08.526566Z"
    }
   },
   "outputs": [
    {
     "data": {
      "text/plain": [
       "array(['LaMelo Ball', 'James Wiseman', 'Anthony Edwards',\n",
       "       'Cade Cunningham', 'Jalen Suggs', 'Evan Mobley', 'Jalen Green',\n",
       "       'Victor Wembanyama', 'Scoot Henderson', 'Cam Whitmore',\n",
       "       'Brandon Miller', 'Amen Thompson', 'Chet Holmgren',\n",
       "       'Jabari Smith Jr.', 'Paolo Banchero', 'Jaden Ivey'], dtype=object)"
      ]
     },
     "execution_count": 17,
     "metadata": {},
     "output_type": "execute_result"
    }
   ],
   "source": [
    "df[df['TIER'] == 5].PLAYER.values"
   ]
  },
  {
   "cell_type": "code",
   "execution_count": 18,
   "id": "0d7b09c7",
   "metadata": {
    "ExecuteTime": {
     "end_time": "2023-08-15T15:26:08.834680Z",
     "start_time": "2023-08-15T15:26:08.826856Z"
    }
   },
   "outputs": [
    {
     "data": {
      "text/plain": [
       "array(['Onyeka Okongwu', 'Isaac Okoro', 'Deni Avdija',\n",
       "       'Tyrese Haliburton', 'Obi Toppin', 'Patrick Williams',\n",
       "       'Killian Hayes', 'Devin Vassell', 'Jonathan Kuminga',\n",
       "       'Scottie Barnes', 'Jarace Walker', 'Taylor Hendricks',\n",
       "       'Anthony Black', 'Ausar Thompson', 'Bennedict Mathurin',\n",
       "       'Jeremy Sochan', 'Dyson Daniels', 'Keegan Murray',\n",
       "       'Shaedon Sharpe'], dtype=object)"
      ]
     },
     "execution_count": 18,
     "metadata": {},
     "output_type": "execute_result"
    }
   ],
   "source": [
    "df[df['TIER'] == 4].PLAYER.values"
   ]
  },
  {
   "cell_type": "code",
   "execution_count": 19,
   "id": "aa34070c",
   "metadata": {
    "ExecuteTime": {
     "end_time": "2023-08-15T15:26:09.239946Z",
     "start_time": "2023-08-15T15:26:09.233159Z"
    }
   },
   "outputs": [
    {
     "data": {
      "text/plain": [
       "array(['Kira Lewis Jr.', 'R.J. Hampton', 'Tyrese Maxey',\n",
       "       'Aleksej Pokusevski', 'Saddiq Bey', 'Aaron Nesmith', 'Moses Moody',\n",
       "       'Alperen Sengun', 'James Bouknight', 'Davion Mitchell',\n",
       "       'Usman Garuba', 'Josh Giddey', 'Chris Duarte', 'Franz Wagner',\n",
       "       'Ziaire Williams', 'Trey Murphy III', 'Jared Butler',\n",
       "       'Corey Kispert', 'Kai Jones', 'Jaden Springer', 'Keon Johnson',\n",
       "       'Miles McBride', 'Dereck Lively II', 'Kobe Bufkin',\n",
       "       'Bilal Coulibaly', 'Leonard Miller', 'Cason Wallace',\n",
       "       'Jalen Hood-Schifino', 'Gradey Dick', 'Johnny Davis', 'AJ Griffin',\n",
       "       'Jalen Duren', 'Tari Eason', 'TyTy Washington Jr.',\n",
       "       'Mark Williams', 'Ousmane Dieng', 'Dalen Terry', 'Jalen Williams',\n",
       "       'Ochai Agbaji', 'Jaden Hardy', 'Malaki Branham'], dtype=object)"
      ]
     },
     "execution_count": 19,
     "metadata": {},
     "output_type": "execute_result"
    }
   ],
   "source": [
    "df[df['TIER'] == 3].PLAYER.values"
   ]
  },
  {
   "cell_type": "markdown",
   "id": "bfe5f140",
   "metadata": {},
   "source": [
    "## Check Length"
   ]
  },
  {
   "cell_type": "code",
   "execution_count": 20,
   "id": "7b5fb003",
   "metadata": {
    "ExecuteTime": {
     "end_time": "2023-08-15T15:26:10.649391Z",
     "start_time": "2023-08-15T15:26:10.628802Z"
    }
   },
   "outputs": [
    {
     "data": {
      "text/html": [
       "<div>\n",
       "<style scoped>\n",
       "    .dataframe tbody tr th:only-of-type {\n",
       "        vertical-align: middle;\n",
       "    }\n",
       "\n",
       "    .dataframe tbody tr th {\n",
       "        vertical-align: top;\n",
       "    }\n",
       "\n",
       "    .dataframe thead th {\n",
       "        text-align: right;\n",
       "    }\n",
       "</style>\n",
       "<table border=\"1\" class=\"dataframe\">\n",
       "  <thead>\n",
       "    <tr style=\"text-align: right;\">\n",
       "      <th></th>\n",
       "      <th></th>\n",
       "      <th>STRENGTHS_LENGTH</th>\n",
       "      <th>WEAKNESSES_LENGTH</th>\n",
       "    </tr>\n",
       "    <tr>\n",
       "      <th>TIER</th>\n",
       "      <th>TIER_DESCRIP</th>\n",
       "      <th></th>\n",
       "      <th></th>\n",
       "    </tr>\n",
       "  </thead>\n",
       "  <tbody>\n",
       "    <tr>\n",
       "      <th>1</th>\n",
       "      <th>Second Round and Two-Ways</th>\n",
       "      <td>2106.783784</td>\n",
       "      <td>1837.738739</td>\n",
       "    </tr>\n",
       "    <tr>\n",
       "      <th>2</th>\n",
       "      <th>Rotation Players</th>\n",
       "      <td>2865.188119</td>\n",
       "      <td>2334.009901</td>\n",
       "    </tr>\n",
       "    <tr>\n",
       "      <th>3</th>\n",
       "      <th>Upside Swings</th>\n",
       "      <td>3507.000000</td>\n",
       "      <td>2347.048780</td>\n",
       "    </tr>\n",
       "    <tr>\n",
       "      <th>4</th>\n",
       "      <th>High-Leverage Starters</th>\n",
       "      <td>3725.105263</td>\n",
       "      <td>2299.894737</td>\n",
       "    </tr>\n",
       "    <tr>\n",
       "      <th>5</th>\n",
       "      <th>All-Star Upside</th>\n",
       "      <td>4676.062500</td>\n",
       "      <td>2639.687500</td>\n",
       "    </tr>\n",
       "  </tbody>\n",
       "</table>\n",
       "</div>"
      ],
      "text/plain": [
       "                                STRENGTHS_LENGTH  WEAKNESSES_LENGTH\n",
       "TIER TIER_DESCRIP                                                  \n",
       "1    Second Round and Two-Ways       2106.783784        1837.738739\n",
       "2    Rotation Players                2865.188119        2334.009901\n",
       "3    Upside Swings                   3507.000000        2347.048780\n",
       "4    High-Leverage Starters          3725.105263        2299.894737\n",
       "5    All-Star Upside                 4676.062500        2639.687500"
      ]
     },
     "execution_count": 20,
     "metadata": {},
     "output_type": "execute_result"
    }
   ],
   "source": [
    "temp = df.copy()\n",
    "temp['STRENGTHS_LENGTH'] = temp['STRENGTHS'].apply(len)\n",
    "temp['WEAKNESSES_LENGTH'] = temp['WEAKNESSES'].apply(len)\n",
    "temp.groupby(['TIER', 'TIER_DESCRIP'])[['STRENGTHS_LENGTH', 'WEAKNESSES_LENGTH']].mean()"
   ]
  },
  {
   "cell_type": "markdown",
   "id": "4ca2b136",
   "metadata": {},
   "source": [
    "## Save Data"
   ]
  },
  {
   "cell_type": "code",
   "execution_count": 22,
   "id": "6613cd3e",
   "metadata": {
    "ExecuteTime": {
     "end_time": "2023-08-15T15:26:19.524051Z",
     "start_time": "2023-08-15T15:26:19.463754Z"
    }
   },
   "outputs": [],
   "source": [
    "df.to_csv('../processed_csv/draft_guide_data.csv', index=False)"
   ]
  }
 ],
 "metadata": {
  "kernelspec": {
   "display_name": "Python 3 (ipykernel)",
   "language": "python",
   "name": "python3"
  },
  "language_info": {
   "codemirror_mode": {
    "name": "ipython",
    "version": 3
   },
   "file_extension": ".py",
   "mimetype": "text/x-python",
   "name": "python",
   "nbconvert_exporter": "python",
   "pygments_lexer": "ipython3",
   "version": "3.8.15"
  }
 },
 "nbformat": 4,
 "nbformat_minor": 5
}
